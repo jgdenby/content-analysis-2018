{
 "cells": [
  {
   "cell_type": "markdown",
   "metadata": {},
   "source": [
    "### Content Analysis\n",
    "#### Joseph Denby"
   ]
  },
  {
   "cell_type": "markdown",
   "metadata": {},
   "source": [
    "Load relevant packages and functions. "
   ]
  },
  {
   "cell_type": "code",
   "execution_count": 2,
   "metadata": {
    "collapsed": true
   },
   "outputs": [],
   "source": [
    "import pandas as pd\n",
    "import numpy as np\n",
    "import feather\n",
    "\n",
    "import sklearn\n",
    "import sklearn.feature_extraction.text\n",
    "import sklearn.pipeline\n",
    "import sklearn.preprocessing\n",
    "import sklearn.datasets\n",
    "import sklearn.cluster\n",
    "import sklearn.decomposition\n",
    "import sklearn.metrics\n",
    "\n",
    "import scipy\n",
    "import lucem_illud\n",
    "import nltk\n",
    "\n",
    "import matplotlib.pyplot as plt\n",
    "import matplotlib.cm\n",
    "import seaborn as sns\n",
    "%matplotlib inline"
   ]
  },
  {
   "cell_type": "code",
   "execution_count": 3,
   "metadata": {
    "collapsed": true
   },
   "outputs": [],
   "source": [
    "def wordCounter(wordLst):\n",
    "    wordCounts = {}\n",
    "    for word in wordLst:\n",
    "        #We usually need to normalize the case\n",
    "        wLower = word.lower()\n",
    "        if wLower in wordCounts:\n",
    "            wordCounts[wLower] += 1\n",
    "        else:\n",
    "            wordCounts[wLower] = 1\n",
    "    #convert to DataFrame\n",
    "    countsForFrame = {'word' : [], 'count' : []}\n",
    "    for w, c in wordCounts.items():\n",
    "        countsForFrame['word'].append(w)\n",
    "        countsForFrame['count'].append(c)\n",
    "    return pd.DataFrame(countsForFrame)"
   ]
  },
  {
   "cell_type": "markdown",
   "metadata": {},
   "source": [
    "Read in dataframes"
   ]
  },
  {
   "cell_type": "code",
   "execution_count": 19,
   "metadata": {},
   "outputs": [],
   "source": [
    "ldpdf = feather.read_dataframe('utterances.feather')\n",
    "ldpdf = ldpdf.drop(columns=['c_chat', 'order', 'line'])\n",
    "ldpdf = ldpdf.dropna()"
   ]
  },
  {
   "cell_type": "code",
   "execution_count": 24,
   "metadata": {},
   "outputs": [
    {
     "data": {
      "text/plain": [
       "(1267483, 3)"
      ]
     },
     "execution_count": 24,
     "metadata": {},
     "output_type": "execute_result"
    }
   ],
   "source": [
    "ldpdf.shape"
   ]
  },
  {
   "cell_type": "code",
   "execution_count": 116,
   "metadata": {},
   "outputs": [
    {
     "data": {
      "text/html": [
       "<div>\n",
       "<style scoped>\n",
       "    .dataframe tbody tr th:only-of-type {\n",
       "        vertical-align: middle;\n",
       "    }\n",
       "\n",
       "    .dataframe tbody tr th {\n",
       "        vertical-align: top;\n",
       "    }\n",
       "\n",
       "    .dataframe thead th {\n",
       "        text-align: right;\n",
       "    }\n",
       "</style>\n",
       "<table border=\"1\" class=\"dataframe\">\n",
       "  <thead>\n",
       "    <tr style=\"text-align: right;\">\n",
       "      <th></th>\n",
       "      <th>author</th>\n",
       "      <th>text</th>\n",
       "      <th>title</th>\n",
       "      <th>tokens</th>\n",
       "      <th>nltktext</th>\n",
       "    </tr>\n",
       "  </thead>\n",
       "  <tbody>\n",
       "    <tr>\n",
       "      <th>0</th>\n",
       "      <td>Jules Feiffer</td>\n",
       "      <td>George’s mother said: \"Bark, George.\" George w...</td>\n",
       "      <td>Bark, George</td>\n",
       "      <td>[George, ’, s, mother, said, :, ``, Bark, ,, G...</td>\n",
       "      <td>(George, ’, s, mother, said, :, ``, Bark, ,, G...</td>\n",
       "    </tr>\n",
       "    <tr>\n",
       "      <th>1</th>\n",
       "      <td>Robert McCloskey</td>\n",
       "      <td>One day, Little Sal went with her mother to Bl...</td>\n",
       "      <td>Blueberries for Sal</td>\n",
       "      <td>[One, day, ,, Little, Sal, went, with, her, mo...</td>\n",
       "      <td>(One, day, ,, Little, Sal, went, with, her, mo...</td>\n",
       "    </tr>\n",
       "    <tr>\n",
       "      <th>2</th>\n",
       "      <td>Bill Martin Jr</td>\n",
       "      <td>Brown Bear, Brown Bear, What do you see? I see...</td>\n",
       "      <td>Brown Bear, Brown Bear, What Do You See?</td>\n",
       "      <td>[Brown, Bear, ,, Brown, Bear, ,, What, do, you...</td>\n",
       "      <td>(Brown, Bear, ,, Brown, Bear, ,, What, do, you...</td>\n",
       "    </tr>\n",
       "    <tr>\n",
       "      <th>3</th>\n",
       "      <td>Doreen Cronin</td>\n",
       "      <td>Farmer Brown has a problem. His cows like to t...</td>\n",
       "      <td>Click, Clack, Moo Cows that Type</td>\n",
       "      <td>[Farmer, Brown, has, a, problem, ., His, cows,...</td>\n",
       "      <td>(Farmer, Brown, has, a, problem, ., His, cows,...</td>\n",
       "    </tr>\n",
       "    <tr>\n",
       "      <th>4</th>\n",
       "      <td>Judi Barrett</td>\n",
       "      <td>We were all sitting around the big kitchen tab...</td>\n",
       "      <td>Cloudy With a Chance of Meatballs</td>\n",
       "      <td>[We, were, all, sitting, around, the, big, kit...</td>\n",
       "      <td>(We, were, all, sitting, around, the, big, kit...</td>\n",
       "    </tr>\n",
       "    <tr>\n",
       "      <th>5</th>\n",
       "      <td>Don Freeman</td>\n",
       "      <td>Corduroy is a bear who once lived in the toy d...</td>\n",
       "      <td>Corduroy</td>\n",
       "      <td>[Corduroy, is, a, bear, who, once, lived, in, ...</td>\n",
       "      <td>(Corduroy, is, a, bear, who, once, lived, in, ...</td>\n",
       "    </tr>\n",
       "    <tr>\n",
       "      <th>6</th>\n",
       "      <td>H.A. Rey</td>\n",
       "      <td>This is George. He lived in Africa. He was a g...</td>\n",
       "      <td>Curious George</td>\n",
       "      <td>[This, is, George, ., He, lived, in, Africa, ....</td>\n",
       "      <td>(This, is, George, ., He, lived, in, Africa, ....</td>\n",
       "    </tr>\n",
       "    <tr>\n",
       "      <th>7</th>\n",
       "      <td>Sheila McGraw</td>\n",
       "      <td>A mother held her new baby and very slowly roc...</td>\n",
       "      <td>Love You Forever</td>\n",
       "      <td>[A, mother, held, her, new, baby, and, very, s...</td>\n",
       "      <td>(A, mother, held, her, new, baby, and, very, s...</td>\n",
       "    </tr>\n",
       "    <tr>\n",
       "      <th>8</th>\n",
       "      <td>Ruth Krauss</td>\n",
       "      <td>A little boy planted a carrot seed. His mother...</td>\n",
       "      <td>The Carrot Seed</td>\n",
       "      <td>[A, little, boy, planted, a, carrot, seed, ., ...</td>\n",
       "      <td>(A, little, boy, planted, a, carrot, seed, ., ...</td>\n",
       "    </tr>\n",
       "    <tr>\n",
       "      <th>9</th>\n",
       "      <td>Ezra Jack Keats</td>\n",
       "      <td>One winter morning Peter woke up and looked ou...</td>\n",
       "      <td>The snowy Day</td>\n",
       "      <td>[One, winter, morning, Peter, woke, up, and, l...</td>\n",
       "      <td>(One, winter, morning, Peter, woke, up, and, l...</td>\n",
       "    </tr>\n",
       "  </tbody>\n",
       "</table>\n",
       "</div>"
      ],
      "text/plain": [
       "              author                                               text  \\\n",
       "0      Jules Feiffer  George’s mother said: \"Bark, George.\" George w...   \n",
       "1   Robert McCloskey  One day, Little Sal went with her mother to Bl...   \n",
       "2     Bill Martin Jr  Brown Bear, Brown Bear, What do you see? I see...   \n",
       "3      Doreen Cronin  Farmer Brown has a problem. His cows like to t...   \n",
       "4       Judi Barrett  We were all sitting around the big kitchen tab...   \n",
       "5        Don Freeman  Corduroy is a bear who once lived in the toy d...   \n",
       "6           H.A. Rey  This is George. He lived in Africa. He was a g...   \n",
       "7      Sheila McGraw  A mother held her new baby and very slowly roc...   \n",
       "8        Ruth Krauss  A little boy planted a carrot seed. His mother...   \n",
       "9    Ezra Jack Keats  One winter morning Peter woke up and looked ou...   \n",
       "\n",
       "                                      title  \\\n",
       "0                              Bark, George   \n",
       "1                       Blueberries for Sal   \n",
       "2  Brown Bear, Brown Bear, What Do You See?   \n",
       "3          Click, Clack, Moo Cows that Type   \n",
       "4         Cloudy With a Chance of Meatballs   \n",
       "5                                  Corduroy   \n",
       "6                            Curious George   \n",
       "7                          Love You Forever   \n",
       "8                           The Carrot Seed   \n",
       "9                             The snowy Day   \n",
       "\n",
       "                                              tokens  \\\n",
       "0  [George, ’, s, mother, said, :, ``, Bark, ,, G...   \n",
       "1  [One, day, ,, Little, Sal, went, with, her, mo...   \n",
       "2  [Brown, Bear, ,, Brown, Bear, ,, What, do, you...   \n",
       "3  [Farmer, Brown, has, a, problem, ., His, cows,...   \n",
       "4  [We, were, all, sitting, around, the, big, kit...   \n",
       "5  [Corduroy, is, a, bear, who, once, lived, in, ...   \n",
       "6  [This, is, George, ., He, lived, in, Africa, ....   \n",
       "7  [A, mother, held, her, new, baby, and, very, s...   \n",
       "8  [A, little, boy, planted, a, carrot, seed, ., ...   \n",
       "9  [One, winter, morning, Peter, woke, up, and, l...   \n",
       "\n",
       "                                            nltktext  \n",
       "0  (George, ’, s, mother, said, :, ``, Bark, ,, G...  \n",
       "1  (One, day, ,, Little, Sal, went, with, her, mo...  \n",
       "2  (Brown, Bear, ,, Brown, Bear, ,, What, do, you...  \n",
       "3  (Farmer, Brown, has, a, problem, ., His, cows,...  \n",
       "4  (We, were, all, sitting, around, the, big, kit...  \n",
       "5  (Corduroy, is, a, bear, who, once, lived, in, ...  \n",
       "6  (This, is, George, ., He, lived, in, Africa, ....  \n",
       "7  (A, mother, held, her, new, baby, and, very, s...  \n",
       "8  (A, little, boy, planted, a, carrot, seed, ., ...  \n",
       "9  (One, winter, morning, Peter, woke, up, and, l...  "
      ]
     },
     "execution_count": 116,
     "metadata": {},
     "output_type": "execute_result"
    }
   ],
   "source": [
    "bookdf = pd.read_csv(\"bookdf.csv\", index_col=0)\n",
    "bookdf['tokens'] = bookdf['text'].apply(lambda x: nltk.word_tokenize(x))\n",
    "bookdf['nltktext'] = bookdf['tokens'].apply(lambda x: nltk.Text(x))\n",
    "bookdf[:10]"
   ]
  },
  {
   "cell_type": "markdown",
   "metadata": {},
   "source": [
    "Compute stopword list based on corpus frequency and create tokenized and normalized nltk sentence columns."
   ]
  },
  {
   "cell_type": "code",
   "execution_count": 5,
   "metadata": {
    "collapsed": true
   },
   "outputs": [],
   "source": [
    "alltokens = bookdf['tokens'].sum()\n",
    "\n",
    "#all words sorted by frequency\n",
    "allcountedWords = wordCounter(alltokens)\n",
    "allcountedWords.sort_values('count', ascending=False, inplace=True)\n",
    "\n",
    "stop_words_freq = []\n",
    "countsDict = {}\n",
    "for word in alltokens:\n",
    "    if word in countsDict:\n",
    "        countsDict[word] += 1\n",
    "    else:\n",
    "        countsDict[word] = 1\n",
    "word_counts = sorted(countsDict.items(), key = lambda x : x[1], reverse = True)\n",
    "word_counts[:100]\n",
    "for word, count in word_counts:\n",
    "    if word == 'little':\n",
    "        break\n",
    "    else:\n",
    "        stop_words_freq.append(word)"
   ]
  },
  {
   "cell_type": "code",
   "execution_count": 7,
   "metadata": {},
   "outputs": [
    {
     "data": {
      "text/html": [
       "<div>\n",
       "<style scoped>\n",
       "    .dataframe tbody tr th:only-of-type {\n",
       "        vertical-align: middle;\n",
       "    }\n",
       "\n",
       "    .dataframe tbody tr th {\n",
       "        vertical-align: top;\n",
       "    }\n",
       "\n",
       "    .dataframe thead th {\n",
       "        text-align: right;\n",
       "    }\n",
       "</style>\n",
       "<table border=\"1\" class=\"dataframe\">\n",
       "  <thead>\n",
       "    <tr style=\"text-align: right;\">\n",
       "      <th></th>\n",
       "      <th>author</th>\n",
       "      <th>text</th>\n",
       "      <th>title</th>\n",
       "      <th>tokens</th>\n",
       "      <th>nltktext</th>\n",
       "      <th>tokenized_sents</th>\n",
       "      <th>normalized_sents</th>\n",
       "    </tr>\n",
       "  </thead>\n",
       "  <tbody>\n",
       "    <tr>\n",
       "      <th>0</th>\n",
       "      <td>Jules Feiffer</td>\n",
       "      <td>George’s mother said: \"Bark, George.\" George w...</td>\n",
       "      <td>Bark, George</td>\n",
       "      <td>[George, ’, s, mother, said, :, ``, Bark, ,, G...</td>\n",
       "      <td>(George, ’, s, mother, said, :, ``, Bark, ,, G...</td>\n",
       "      <td>[[George, ’, s, mother, said, :, ``, Bark, ,, ...</td>\n",
       "      <td>[[george, mother, bark, george], [george, went...</td>\n",
       "    </tr>\n",
       "    <tr>\n",
       "      <th>1</th>\n",
       "      <td>Robert McCloskey</td>\n",
       "      <td>One day, Little Sal went with her mother to Bl...</td>\n",
       "      <td>Blueberries for Sal</td>\n",
       "      <td>[One, day, ,, Little, Sal, went, with, her, mo...</td>\n",
       "      <td>(One, day, ,, Little, Sal, went, with, her, mo...</td>\n",
       "      <td>[[One, day, ,, Little, Sal, went, with, her, m...</td>\n",
       "      <td>[[one, day, little, sal, went, mother, blueber...</td>\n",
       "    </tr>\n",
       "    <tr>\n",
       "      <th>2</th>\n",
       "      <td>Bill Martin Jr</td>\n",
       "      <td>Brown Bear, Brown Bear, What do you see? I see...</td>\n",
       "      <td>Brown Bear, Brown Bear, What Do You See?</td>\n",
       "      <td>[Brown, Bear, ,, Brown, Bear, ,, What, do, you...</td>\n",
       "      <td>(Brown, Bear, ,, Brown, Bear, ,, What, do, you...</td>\n",
       "      <td>[[Brown, Bear, ,, Brown, Bear, ,, What, do, yo...</td>\n",
       "      <td>[[brown, bear, brown, bear, what, do, see], [i...</td>\n",
       "    </tr>\n",
       "    <tr>\n",
       "      <th>3</th>\n",
       "      <td>Doreen Cronin</td>\n",
       "      <td>Farmer Brown has a problem. His cows like to t...</td>\n",
       "      <td>Click, Clack, Moo Cows that Type</td>\n",
       "      <td>[Farmer, Brown, has, a, problem, ., His, cows,...</td>\n",
       "      <td>(Farmer, Brown, has, a, problem, ., His, cows,...</td>\n",
       "      <td>[[Farmer, Brown, has, a, problem, .], [His, co...</td>\n",
       "      <td>[[farmer, brown, has, problem], [cows, type], ...</td>\n",
       "    </tr>\n",
       "    <tr>\n",
       "      <th>4</th>\n",
       "      <td>Judi Barrett</td>\n",
       "      <td>We were all sitting around the big kitchen tab...</td>\n",
       "      <td>Cloudy With a Chance of Meatballs</td>\n",
       "      <td>[We, were, all, sitting, around, the, big, kit...</td>\n",
       "      <td>(We, were, all, sitting, around, the, big, kit...</td>\n",
       "      <td>[[We, were, all, sitting, around, the, big, ki...</td>\n",
       "      <td>[[we, were, sitting, around, big, kitchen, tab...</td>\n",
       "    </tr>\n",
       "  </tbody>\n",
       "</table>\n",
       "</div>"
      ],
      "text/plain": [
       "              author                                               text  \\\n",
       "0      Jules Feiffer  George’s mother said: \"Bark, George.\" George w...   \n",
       "1   Robert McCloskey  One day, Little Sal went with her mother to Bl...   \n",
       "2     Bill Martin Jr  Brown Bear, Brown Bear, What do you see? I see...   \n",
       "3      Doreen Cronin  Farmer Brown has a problem. His cows like to t...   \n",
       "4       Judi Barrett  We were all sitting around the big kitchen tab...   \n",
       "\n",
       "                                      title  \\\n",
       "0                              Bark, George   \n",
       "1                       Blueberries for Sal   \n",
       "2  Brown Bear, Brown Bear, What Do You See?   \n",
       "3          Click, Clack, Moo Cows that Type   \n",
       "4         Cloudy With a Chance of Meatballs   \n",
       "\n",
       "                                              tokens  \\\n",
       "0  [George, ’, s, mother, said, :, ``, Bark, ,, G...   \n",
       "1  [One, day, ,, Little, Sal, went, with, her, mo...   \n",
       "2  [Brown, Bear, ,, Brown, Bear, ,, What, do, you...   \n",
       "3  [Farmer, Brown, has, a, problem, ., His, cows,...   \n",
       "4  [We, were, all, sitting, around, the, big, kit...   \n",
       "\n",
       "                                            nltktext  \\\n",
       "0  (George, ’, s, mother, said, :, ``, Bark, ,, G...   \n",
       "1  (One, day, ,, Little, Sal, went, with, her, mo...   \n",
       "2  (Brown, Bear, ,, Brown, Bear, ,, What, do, you...   \n",
       "3  (Farmer, Brown, has, a, problem, ., His, cows,...   \n",
       "4  (We, were, all, sitting, around, the, big, kit...   \n",
       "\n",
       "                                     tokenized_sents  \\\n",
       "0  [[George, ’, s, mother, said, :, ``, Bark, ,, ...   \n",
       "1  [[One, day, ,, Little, Sal, went, with, her, m...   \n",
       "2  [[Brown, Bear, ,, Brown, Bear, ,, What, do, yo...   \n",
       "3  [[Farmer, Brown, has, a, problem, .], [His, co...   \n",
       "4  [[We, were, all, sitting, around, the, big, ki...   \n",
       "\n",
       "                                    normalized_sents  \n",
       "0  [[george, mother, bark, george], [george, went...  \n",
       "1  [[one, day, little, sal, went, mother, blueber...  \n",
       "2  [[brown, bear, brown, bear, what, do, see], [i...  \n",
       "3  [[farmer, brown, has, problem], [cows, type], ...  \n",
       "4  [[we, were, sitting, around, big, kitchen, tab...  "
      ]
     },
     "execution_count": 7,
     "metadata": {},
     "output_type": "execute_result"
    }
   ],
   "source": [
    "bookdf['tokenized_sents'] = bookdf['text'].apply(lambda x: [nltk.word_tokenize(s) for s in nltk.sent_tokenize(x)])\n",
    "bookdf['normalized_sents'] = bookdf['tokenized_sents'].apply(lambda x: [lucem_illud.normalizeTokens(s, stopwordLst = stop_words_freq, stemmer = None) for s in x])\n",
    "bookdf[:5]"
   ]
  },
  {
   "cell_type": "markdown",
   "metadata": {
    "collapsed": true
   },
   "source": [
    "Now, create a tf-idf matrix. This is a sparse matrix with each row being a document (book) and each column a word appearing in the corpus."
   ]
  },
  {
   "cell_type": "markdown",
   "metadata": {},
   "source": [
    "First, a vectorizer that creates a count matrix (each field is the number of times a word appears in a document)."
   ]
  },
  {
   "cell_type": "code",
   "execution_count": 117,
   "metadata": {
    "collapsed": true
   },
   "outputs": [],
   "source": [
    "#First it needs to be initialized\n",
    "bookCountVectorizer = sklearn.feature_extraction.text.CountVectorizer()\n",
    "#Then trained\n",
    "bookgroupVects = bookCountVectorizer.fit_transform(bookdf['text'])"
   ]
  },
  {
   "cell_type": "code",
   "execution_count": 16,
   "metadata": {},
   "outputs": [
    {
     "data": {
      "text/plain": [
       "(100, 5577)"
      ]
     },
     "execution_count": 16,
     "metadata": {},
     "output_type": "execute_result"
    }
   ],
   "source": [
    "bookgroupVects.shape"
   ]
  },
  {
   "cell_type": "code",
   "execution_count": 49,
   "metadata": {
    "collapsed": true
   },
   "outputs": [],
   "source": [
    "bookCountVectorizer.vocabulary_.get(\"\")"
   ]
  },
  {
   "cell_type": "markdown",
   "metadata": {},
   "source": [
    "Now, compute the tf-idf matrix. This assigns a score (tf-idf) to each word in each document according to its 'tellingness.' Each score is an indication of the word's importance within a document weighted by its relative presence across the entire corpus."
   ]
  },
  {
   "cell_type": "code",
   "execution_count": 57,
   "metadata": {
    "collapsed": true
   },
   "outputs": [],
   "source": [
    "\n",
    "#initialize\n",
    "bookTFVectorizer = sklearn.feature_extraction.text.TfidfVectorizer(stop_words=stop_words_freq, norm='l2')\n",
    "#train\n",
    "bookgroupTFVects = bookTFVectorizer.fit_transform(bookdf['text'])"
   ]
  },
  {
   "cell_type": "code",
   "execution_count": 62,
   "metadata": {},
   "outputs": [
    {
     "data": {
      "text/plain": [
       "[('george', 0.8250452029628907),\n",
       " ('mother', 0.0806859374239559),\n",
       " ('bark', 0.30346153103359197),\n",
       " ('went', 0.10025854047243683),\n",
       " ('meow', 0.07409044053577216),\n",
       " ('no', 0.02782304744964275),\n",
       " ('cats', 0.023572720084654025),\n",
       " ('go', 0.053296564657065615),\n",
       " ('dogs', 0.06539709675813102),\n",
       " ('arf', 0.12138461241343679),\n",
       " ('now', 0.02875583332681148),\n",
       " ('quack', 0.1481808810715443),\n",
       " ('ducks', 0.02607259267803477),\n",
       " ('oink', 0.07821777803410432),\n",
       " ('pigs', 0.02607259267803477),\n",
       " ('moo', 0.055692561019956906),\n",
       " ('took', 0.013447656237325984),\n",
       " ('vet', 0.2124230717235144),\n",
       " ('ll', 0.011014437746450794),\n",
       " ('soon', 0.014532100367612747)]"
      ]
     },
     "execution_count": 62,
     "metadata": {},
     "output_type": "execute_result"
    }
   ],
   "source": [
    "list(zip(bookTFVectorizer.vocabulary_.keys(), bookgroupTFVects.data))[:20]"
   ]
  },
  {
   "cell_type": "code",
   "execution_count": 123,
   "metadata": {
    "collapsed": true
   },
   "outputs": [],
   "source": [
    "PCA = sklearn.decomposition.PCA\n",
    "pca = PCA(n_components = 4).fit(bookgroupTFVects.toarray())\n",
    "reduced_data = pca.transform(bookgroupTFVects.toarray())\n",
    "components = pca.components_\n",
    "keyword_ids = list(set(order_centroids[:,:10].flatten())) #Get the ids of the most distinguishing words(features) from your kmeans model.\n",
    "booktitles = bookdf['title']\n",
    "words = [terms[i] for i in keyword_ids]#Turn the ids into words.\n",
    "x = components[:,keyword_ids][0,:] #Find the coordinates of those words in your biplot.\n",
    "y = components[:,keyword_ids][1,:]"
   ]
  },
  {
   "cell_type": "code",
   "execution_count": 122,
   "metadata": {},
   "outputs": [
    {
     "data": {
      "text/plain": [
       "array([[-6.92441597e-04, -3.10051955e-04, -1.73959139e-03, ...,\n",
       "        -3.74375126e-04, -1.84840795e-03, -8.40431720e-05],\n",
       "       [ 6.11263516e-04,  1.76518196e-04, -5.11822857e-04, ...,\n",
       "        -5.01952367e-04,  3.72336919e-03, -1.87272269e-04]])"
      ]
     },
     "execution_count": 122,
     "metadata": {},
     "output_type": "execute_result"
    }
   ],
   "source": [
    "redu"
   ]
  },
  {
   "cell_type": "code",
   "execution_count": 127,
   "metadata": {},
   "outputs": [
    {
     "data": {
      "image/png": "[encoded data removed]",
      "text/plain": [
       "<matplotlib.figure.Figure at 0x114959978>"
      ]
     },
     "metadata": {},
     "output_type": "display_data"
    }
   ],
   "source": [
    "fig = plt.figure(figsize = (10,6))\n",
    "ax = fig.add_subplot(111)\n",
    "ax.set_frame_on(False)\n",
    "ax.scatter(reduced_data[:, 2], reduced_data[:, 3], alpha = 0.5)\n",
    "for i, booktitle in enumerate(booktitles):\n",
    "    ax.annotate(booktitle, (reduced_data[i,2], reduced_data[i,3]))\n",
    "plt.xticks(())\n",
    "plt.yticks(())\n",
    "plt.title('PCA on Books\\' tf-idf')\n",
    "plt.show()"
   ]
  },
  {
   "cell_type": "markdown",
   "metadata": {},
   "source": [
    "Based on above filtering, most books have similar tf-idf vectors except for a few. Upon closer inspection, these books appear to use idiosyncratic words frequently (e.g., George, Llama). I can try adding these to the stop words list to see how this changes the PCA."
   ]
  },
  {
   "cell_type": "code",
   "execution_count": 96,
   "metadata": {
    "collapsed": true
   },
   "outputs": [],
   "source": [
    "new_stop_words = stop_words_freq[:] + ['george', 'llama']\n",
    "#initialize\n",
    "newbookTFVectorizer = sklearn.feature_extraction.text.TfidfVectorizer(max_df=.5, min_df=3, stop_words=new_stop_words, norm='l2')\n",
    "#train\n",
    "newbookgroupTFVects = newbookTFVectorizer.fit_transform(bookdf['text'])"
   ]
  },
  {
   "cell_type": "markdown",
   "metadata": {},
   "source": [
    "In general – can tweak a few parameters w.r.t. tfidfvectorizer: max_df, min_df, stop_words.\n",
    "Could also experiment with different stemming / lemmatization pre-processing."
   ]
  },
  {
   "cell_type": "code",
   "execution_count": 129,
   "metadata": {
    "collapsed": true
   },
   "outputs": [],
   "source": [
    "newpca = PCA(n_components = 10).fit(newbookgroupTFVects.toarray())\n",
    "newreduced_data = newpca.transform(newbookgroupTFVects.toarray())\n",
    "components = newpca.components_\n",
    "keyword_ids = list(set(order_centroids[:,:10].flatten())) #Get the ids of the most distinguishing words(features) from your kmeans model.\n",
    "booktitles = bookdf['title']\n",
    "#words = [terms[i] for i in keyword_ids]#Turn the ids into words.\n",
    "#x = components[:,keyword_ids][0,:] #Find the coordinates of those words in your biplot.\n",
    "#y = components[:,keyword_ids][1,:]"
   ]
  },
  {
   "cell_type": "code",
   "execution_count": 103,
   "metadata": {},
   "outputs": [
    {
     "data": {
      "image/png": "[encoded data removed]",
      "text/plain": [
       "<matplotlib.figure.Figure at 0x1165f2160>"
      ]
     },
     "metadata": {},
     "output_type": "display_data"
    }
   ],
   "source": [
    "fig = plt.figure(figsize = (10,6))\n",
    "ax = fig.add_subplot(111)\n",
    "ax.set_frame_on(False)\n",
    "ax.scatter(newreduced_data[:, 0], newreduced_data[:, 1], alpha = 0.5)\n",
    "#for i, booktitle in enumerate(booktitles):\n",
    " #   ax.annotate(booktitle, (newreduced_data[i,0], newreduced_data[i,1]))\n",
    "plt.xticks(())\n",
    "plt.yticks(())\n",
    "plt.title('New PCA on Books\\' tf-idf')\n",
    "plt.show()"
   ]
  },
  {
   "cell_type": "markdown",
   "metadata": {},
   "source": [
    "Clustering algorithm:"
   ]
  },
  {
   "cell_type": "code",
   "execution_count": 111,
   "metadata": {
    "collapsed": true
   },
   "outputs": [],
   "source": [
    "numCategories = 3"
   ]
  },
  {
   "cell_type": "code",
   "execution_count": 112,
   "metadata": {},
   "outputs": [
    {
     "data": {
      "text/plain": [
       "KMeans(algorithm='auto', copy_x=True, init='k-means++', max_iter=300,\n",
       "    n_clusters=3, n_init=10, n_jobs=1, precompute_distances='auto',\n",
       "    random_state=None, tol=0.0001, verbose=0)"
      ]
     },
     "execution_count": 112,
     "metadata": {},
     "output_type": "execute_result"
    }
   ],
   "source": [
    "bookKM = sklearn.cluster.KMeans(n_clusters = numCategories, init='k-means++')\n",
    "bookKM.fit(newbookgroupTFVects)"
   ]
  },
  {
   "cell_type": "markdown",
   "metadata": {},
   "source": [
    "This allows us to visualize the top 10 words per cluster:"
   ]
  },
  {
   "cell_type": "code",
   "execution_count": 128,
   "metadata": {},
   "outputs": [
    {
     "name": "stdout",
     "output_type": "stream",
     "text": [
      "Top terms per cluster:\n",
      "Cluster 0:\n",
      " any\n",
      " eve\n",
      " along\n",
      " babushka\n",
      " become\n",
      " already\n",
      " across\n",
      " arrangement\n",
      " battered\n",
      " dearest\n",
      "\n",
      "\n",
      "Cluster 1:\n",
      " elves\n",
      " due\n",
      " bumps\n",
      " claimed\n",
      " backward\n",
      " enters\n",
      " businesses\n",
      " dragon\n",
      " approached\n",
      " examine\n",
      "\n",
      "\n",
      "Cluster 2:\n",
      " chopping\n",
      " choking\n",
      " ceilings\n",
      " charlie\n",
      " battered\n",
      " bumps\n",
      " bathtub\n",
      " counter\n",
      " expecting\n",
      " chops\n",
      "\n",
      "\n"
     ]
    }
   ],
   "source": [
    "terms = bookTFVectorizer.get_feature_names()\n",
    "print(\"Top terms per cluster:\")\n",
    "order_centroids = bookKM.cluster_centers_.argsort()[:, ::-1]\n",
    "for i in range(numCategories):\n",
    "    print(\"Cluster %d:\" % i)\n",
    "    for ind in order_centroids[i, :10]:\n",
    "        print(' %s' % terms[ind])\n",
    "    print('\\n')"
   ]
  },
  {
   "cell_type": "markdown",
   "metadata": {},
   "source": [
    "Here we can reduce the tf-idf matrix using PCA in order to make visualization easier."
   ]
  },
  {
   "cell_type": "code",
   "execution_count": 114,
   "metadata": {
    "collapsed": true
   },
   "outputs": [],
   "source": [
    "colors = list(plt.cm.rainbow(np.linspace(0,1, numCategories)))\n",
    "colors_p = [colors[l] for l in bookKM.labels_]"
   ]
  },
  {
   "cell_type": "code",
   "execution_count": 115,
   "metadata": {},
   "outputs": [
    {
     "data": {
      "image/png": "[encoded data removed]",
      "text/plain": [
       "<matplotlib.figure.Figure at 0x113bbd630>"
      ]
     },
     "metadata": {},
     "output_type": "display_data"
    }
   ],
   "source": [
    "fig = plt.figure(1)\n",
    "ax = fig.add_subplot(111)\n",
    "ax.set_frame_on(False)\n",
    "plt.scatter(newreduced_data[:, 0], newreduced_data[:, 1], color = colors_p, alpha = 0.5)\n",
    "plt.xticks(())\n",
    "plt.yticks(())\n",
    "plt.title('Predicted Clusters\\n k = {}'.format(numCategories))\n",
    "plt.show()"
   ]
  },
  {
   "cell_type": "code",
   "execution_count": null,
   "metadata": {
    "collapsed": true
   },
   "outputs": [],
   "source": []
  }
 ],
 "metadata": {
  "kernelspec": {
   "display_name": "Python 3",
   "language": "python",
   "name": "python3"
  },
  "language_info": {
   "codemirror_mode": {
    "name": "ipython",
    "version": 3
   },
   "file_extension": ".py",
   "mimetype": "text/x-python",
   "name": "python",
   "nbconvert_exporter": "python",
   "pygments_lexer": "ipython3",
   "version": "3.6.1"
  }
 },
 "nbformat": 4,
 "nbformat_minor": 2
}
